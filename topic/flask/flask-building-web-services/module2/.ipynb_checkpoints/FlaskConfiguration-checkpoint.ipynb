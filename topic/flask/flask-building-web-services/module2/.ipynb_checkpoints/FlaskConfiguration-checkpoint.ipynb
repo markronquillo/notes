{
 "cells": [
  {
   "cell_type": "code",
   "execution_count": null,
   "metadata": {
    "collapsed": true
   },
   "outputs": [],
   "source": [
    "app = Flask(__name__)\n",
    "app.config['DEBUG'] = True"
   ]
  },
  {
   "cell_type": "code",
   "execution_count": 1,
   "metadata": {
    "collapsed": false,
    "scrolled": true
   },
   "outputs": [
    {
     "ename": "IOError",
     "evalue": "[Errno 2] No such file or directory: '/path/to/secret/file'",
     "output_type": "error",
     "traceback": [
      "\u001b[0;31m---------------------------------------------------------------------------\u001b[0m",
      "\u001b[0;31mIOError\u001b[0m                                   Traceback (most recent call last)",
      "\u001b[0;32m<ipython-input-1-eaa4ed9265f9>\u001b[0m in \u001b[0;36m<module>\u001b[0;34m()\u001b[0m\n\u001b[1;32m      7\u001b[0m     \u001b[0mNEW_CONFIG_VARIABLE\u001b[0m \u001b[0;34m=\u001b[0m \u001b[0;34m'my value'\u001b[0m\u001b[0;34m\u001b[0m\u001b[0m\n\u001b[1;32m      8\u001b[0m \u001b[0;34m\u001b[0m\u001b[0m\n\u001b[0;32m----> 9\u001b[0;31m \u001b[0;32mclass\u001b[0m \u001b[0mProductionConfig\u001b[0m\u001b[0;34m(\u001b[0m\u001b[0mBaseConfig\u001b[0m\u001b[0;34m)\u001b[0m\u001b[0;34m:\u001b[0m\u001b[0;34m\u001b[0m\u001b[0m\n\u001b[0m\u001b[1;32m     10\u001b[0m     \u001b[0;34m'Production specific config'\u001b[0m\u001b[0;34m\u001b[0m\u001b[0m\n\u001b[1;32m     11\u001b[0m     \u001b[0mDEBUG\u001b[0m \u001b[0;34m=\u001b[0m \u001b[0mFalse\u001b[0m\u001b[0;34m\u001b[0m\u001b[0m\n",
      "\u001b[0;32m<ipython-input-1-eaa4ed9265f9>\u001b[0m in \u001b[0;36mProductionConfig\u001b[0;34m()\u001b[0m\n\u001b[1;32m     10\u001b[0m     \u001b[0;34m'Production specific config'\u001b[0m\u001b[0;34m\u001b[0m\u001b[0m\n\u001b[1;32m     11\u001b[0m     \u001b[0mDEBUG\u001b[0m \u001b[0;34m=\u001b[0m \u001b[0mFalse\u001b[0m\u001b[0;34m\u001b[0m\u001b[0m\n\u001b[0;32m---> 12\u001b[0;31m     \u001b[0mSECRET_KEY\u001b[0m \u001b[0;34m=\u001b[0m \u001b[0mopen\u001b[0m\u001b[0;34m(\u001b[0m\u001b[0;34m'/path/to/secret/file'\u001b[0m\u001b[0;34m)\u001b[0m\u001b[0;34m.\u001b[0m\u001b[0mread\u001b[0m\u001b[0;34m(\u001b[0m\u001b[0;34m)\u001b[0m\u001b[0;34m\u001b[0m\u001b[0m\n\u001b[0m\u001b[1;32m     13\u001b[0m \u001b[0;34m\u001b[0m\u001b[0m\n\u001b[1;32m     14\u001b[0m \u001b[0;32mclass\u001b[0m \u001b[0mStagingConfig\u001b[0m\u001b[0;34m(\u001b[0m\u001b[0mBaseConfig\u001b[0m\u001b[0;34m)\u001b[0m\u001b[0;34m:\u001b[0m\u001b[0;34m\u001b[0m\u001b[0m\n",
      "\u001b[0;31mIOError\u001b[0m: [Errno 2] No such file or directory: '/path/to/secret/file'"
     ]
    }
   ],
   "source": [
    "# class based config files for Flask\n",
    "class BaseConfig(object):\n",
    "    'Base config class'\n",
    "    SECRET_KEY = 'random'\n",
    "    DEBUG = True\n",
    "    TESTING = False\n",
    "    NEW_CONFIG_VARIABLE = 'my value'\n",
    "    \n",
    "class ProductionConfig(BaseConfig):\n",
    "    'Production specific config'\n",
    "    DEBUG = False\n",
    "    SECRET_KEY = open('/path/to/secret/file').read()\n",
    "\n",
    "class StagingConfig(BaseConfig):\n",
    "    DEBUG = True\n",
    "    \n",
    "class DevelopmentConfig(BaseConfig):\n",
    "    'Development environment specific config'\n",
    "    DEBUG = True\n",
    "    TESTING = True\n",
    "    SECRET_KEY = 'Another random secret key'\n",
    "    "
   ]
  },
  {
   "cell_type": "markdown",
   "metadata": {},
   "source": [
    "_Organization of static files_\n",
    "\n",
    "By default, Flask uses the relative `static/` folder but you can change it by"
   ]
  },
  {
   "cell_type": "code",
   "execution_count": 2,
   "metadata": {
    "collapsed": false
   },
   "outputs": [
    {
     "ename": "NameError",
     "evalue": "name 'Flask' is not defined",
     "output_type": "error",
     "traceback": [
      "\u001b[0;31m---------------------------------------------------------------------------\u001b[0m",
      "\u001b[0;31mNameError\u001b[0m                                 Traceback (most recent call last)",
      "\u001b[0;32m<ipython-input-2-466b56f0f8f6>\u001b[0m in \u001b[0;36m<module>\u001b[0;34m()\u001b[0m\n\u001b[0;32m----> 1\u001b[0;31m \u001b[0mapp\u001b[0m \u001b[0;34m=\u001b[0m \u001b[0mFlask\u001b[0m\u001b[0;34m(\u001b[0m\u001b[0m__name__\u001b[0m\u001b[0;34m,\u001b[0m \u001b[0mstatic_folder\u001b[0m\u001b[0;34m=\u001b[0m\u001b[0;34m'/path/to/static/folder'\u001b[0m\u001b[0;34m)\u001b[0m\u001b[0;34m\u001b[0m\u001b[0m\n\u001b[0m\u001b[1;32m      2\u001b[0m \u001b[0;34m\u001b[0m\u001b[0m\n\u001b[1;32m      3\u001b[0m app = Flask(\n\u001b[1;32m      4\u001b[0m     \u001b[0m__name__\u001b[0m\u001b[0;34m,\u001b[0m\u001b[0;34m\u001b[0m\u001b[0m\n\u001b[1;32m      5\u001b[0m     \u001b[0mstatic_url_path\u001b[0m\u001b[0;34m=\u001b[0m\u001b[0;34m'/differentstatic'\u001b[0m\u001b[0;34m,\u001b[0m\u001b[0;34m\u001b[0m\u001b[0m\n",
      "\u001b[0;31mNameError\u001b[0m: name 'Flask' is not defined"
     ]
    }
   ],
   "source": [
    "app = Flask(__name__, static_folder='/path/to/static/folder')\n",
    "\n",
    "app = Flask(\n",
    "    __name__, \n",
    "    static_url_path='/differentstatic',\n",
    "    static_folder='/path/to/static/folder')"
   ]
  },
  {
   "cell_type": "markdown",
   "metadata": {},
   "source": [
    "### Being deployment specific with instance folders\n",
    "\n",
    "By default, the instance folder is picked up from the application automatically if we have a folder named `instance` in our application at the application level.\n",
    "\n",
    "> my_app/\n",
    "    - app.py\n",
    "    - instance/\n",
    "        - config.cfg\n",
    "        "
   ]
  },
  {
   "cell_type": "code",
   "execution_count": null,
   "metadata": {
    "collapsed": true
   },
   "outputs": [],
   "source": [
    "# To change it, we can\n",
    "app = Flask(__name__, instance_path='/absolute/path')\n",
    "\n",
    "app = Flask(__name__, instance_relative_config=True)\n",
    "\n"
   ]
  }
 ],
 "metadata": {
  "kernelspec": {
   "display_name": "Python 2",
   "language": "python",
   "name": "python2"
  },
  "language_info": {
   "codemirror_mode": {
    "name": "ipython",
    "version": 2
   },
   "file_extension": ".py",
   "mimetype": "text/x-python",
   "name": "python",
   "nbconvert_exporter": "python",
   "pygments_lexer": "ipython2",
   "version": "2.7.12"
  }
 },
 "nbformat": 4,
 "nbformat_minor": 2
}
