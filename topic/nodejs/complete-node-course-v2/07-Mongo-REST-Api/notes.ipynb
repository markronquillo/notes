{
 "cells": [
  {
   "cell_type": "markdown",
   "metadata": {},
   "source": [
    "### Building a NoSQL Vocabulary\n",
    "\n",
    "NoSQL\n",
    "- Collection\n",
    "- Field\n",
    "- Document\n",
    "\n"
   ]
  },
  {
   "cell_type": "markdown",
   "metadata": {},
   "source": [
    "#### The ObjectId\n",
    "\n",
    "_id - composed of bytes of date, machine id, and a random number\n"
   ]
  },
  {
   "cell_type": "code",
   "execution_count": null,
   "metadata": {},
   "outputs": [],
   "source": [
    "// Insert data\n",
    "db.collection('Users').insertOne({\n",
    "    name: 'Andrew',\n",
    "    age: 25,\n",
    "    location: 'Philadelphia',\n",
    "}, (err, result) => {\n",
    "    if (err) {\n",
    "        return console.log('Unable to insert user', err);\n",
    "    }\n",
    "    \n",
    "    console.log(results.ops[0]._id.getTimestamp());\n",
    "})\n",
    "\n",
    "// Fetching data\n",
    "db.collection('Todos').find().toArray().then((docs) => {})\n",
    "\n",
    "// Delete many\n",
    "db.collection('Todos').deleteMany({text: 'Eat lunch'}).then(result => {})\n",
    "\n",
    "// Delete One\n",
    "db.collection('Todos').deleteOne({text: 'Eat lunch'}).then(result => {})\n",
    "\n",
    "db.collection('Todos').findOneAndDelete()\n",
    "\n",
    "// Update data\n",
    "db.collection('Todos').findOneAndUpdate({_id: new ObjectID(....)}, \n",
    "    {\n",
    "        $set: { completed: true}\n",
    "    }, {\n",
    "        returnOriginal: false\n",
    "})."
   ]
  },
  {
   "cell_type": "code",
   "execution_count": 2,
   "metadata": {},
   "outputs": [
    {
     "ename": "Javascript Error",
     "evalue": "mongoose is not defined",
     "output_type": "error",
     "traceback": [
      "evalmachine.<anonymous>:4\nvar Todo = mongoose.model('Todo', {\n           ^\n\nReferenceError: mongoose is not defined\n    at evalmachine.<anonymous>:4:12\n    at ContextifyScript.Script.runInContext (vm.js:59:29)\n    at Object.runInContext (vm.js:133:6)\n    at Context.rawRun (/Users/markronquillo/Projects/jupyter-nodejs/build/context.js:184:30)\n    at Domain.<anonymous> (/Users/markronquillo/Projects/jupyter-nodejs/build/context.js:204:27)\n    at Domain.run (domain.js:317:14)\n    at Context.rawEvaluate (/Users/markronquillo/Projects/jupyter-nodejs/build/context.js:202:9)\n    at Context.execute (/Users/markronquillo/Projects/jupyter-nodejs/build/context.js:354:21)\n    at Kernel.executeRequest (/Users/markronquillo/Projects/jupyter-nodejs/build/kernel.js:224:16)\n    at Kernel.onShell (/Users/markronquillo/Projects/jupyter-nodejs/build/kernel.js:126:14)"
     ]
    }
   ],
   "source": [
    "// Mongoose ORM\n",
    "\n",
    "// create a new schema\n",
    "var Todo = mongoose.model('Todo', {\n",
    "    text: {\n",
    "        type: String,\n",
    "        required: true,\n",
    "        minlenght: 1,\n",
    "        trim: true\n",
    "    },\n",
    "    completed: {\n",
    "        type: Boolean,\n",
    "        default: false\n",
    "    },\n",
    "    completedAt: {\n",
    "        type: Number\n",
    "    }\n",
    "});\n",
    "\n",
    "// create new object\n",
    "var newTodo = new Todo({\n",
    "    text: ''\n",
    "});\n",
    "newTodo.save().then(val => {});"
   ]
  },
  {
   "cell_type": "code",
   "execution_count": 3,
   "metadata": {},
   "outputs": [
    {
     "ename": "Javascript Error",
     "evalue": "Cannot read property 'findOne' of undefined",
     "output_type": "error",
     "traceback": [
      "evalmachine.<anonymous>:1\nTodo.findOne({\n     ^\n\nTypeError: Cannot read property 'findOne' of undefined\n    at evalmachine.<anonymous>:1:6\n    at ContextifyScript.Script.runInContext (vm.js:59:29)\n    at Object.runInContext (vm.js:133:6)\n    at Context.rawRun (/Users/markronquillo/Projects/jupyter-nodejs/build/context.js:184:30)\n    at Domain.<anonymous> (/Users/markronquillo/Projects/jupyter-nodejs/build/context.js:204:27)\n    at Domain.run (domain.js:317:14)\n    at Context.rawEvaluate (/Users/markronquillo/Projects/jupyter-nodejs/build/context.js:202:9)\n    at Context.execute (/Users/markronquillo/Projects/jupyter-nodejs/build/context.js:354:21)\n    at Kernel.executeRequest (/Users/markronquillo/Projects/jupyter-nodejs/build/kernel.js:224:16)\n    at Kernel.onShell (/Users/markronquillo/Projects/jupyter-nodejs/build/kernel.js:126:14)"
     ]
    }
   ],
   "source": [
    "Todo.findOne({\n",
    "    _id: id\n",
    "}).then(todo => {\n",
    "    console.log('Todos', todos);\n",
    "})\n",
    "\n",
    "Todo.findById(id)\n",
    "\n",
    "const {ObjectID} = require('mongodb');\n",
    "\n",
    "ObjectID.isValid(id)"
   ]
  },
  {
   "cell_type": "code",
   "execution_count": null,
   "metadata": {},
   "outputs": [],
   "source": [
    "Todo.findOneAndRemove({_id: ''}).then((todo) => {\n",
    "    \n",
    "})\n",
    "\n",
    "Todo.findByIdAndRemove('').then((todo) => {\n",
    "    \n",
    "})\n"
   ]
  }
 ],
 "metadata": {
  "kernelspec": {
   "display_name": "NodeJS",
   "language": "javascript",
   "name": "nodejs"
  },
  "language_info": {
   "codemirror_mode": "javascript",
   "file_extension": ".js",
   "mimetype": "text/javascript",
   "name": "nodejs",
   "pygments_lexer": "javascript",
   "version": "0.10"
  }
 },
 "nbformat": 4,
 "nbformat_minor": 2
}
