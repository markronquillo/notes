{
 "cells": [
  {
   "cell_type": "markdown",
   "metadata": {},
   "source": [
    "### Building a NoSQL Vocabulary\n",
    "\n",
    "NoSQL\n",
    "- Collection\n",
    "- Field\n",
    "- Document\n",
    "\n"
   ]
  },
  {
   "cell_type": "markdown",
   "metadata": {},
   "source": [
    "#### The ObjectId\n",
    "\n",
    "_id - composed of bytes of date, machine id, and a random number\n"
   ]
  },
  {
   "cell_type": "code",
   "execution_count": null,
   "metadata": {},
   "outputs": [],
   "source": [
    "// Fetching data\n",
    "\n",
    "db.collection('Todos').find().toArray().then((docs) => {})\n",
    "\n",
    "// Delete many\n",
    "db.collection('Todos').deleteMany({text: 'Eat lunch'}).then(result => {})\n",
    "\n",
    "// Delete One\n",
    "db.collection('Todos').deleteOne({text: 'Eat lunch'}).then(result => {})\n",
    "\n",
    "db.collection('Todos').findOneAndDelete()\n",
    "\n",
    "// Update data\n",
    "\n",
    "db.collection('Todos').findOneAndUpdate({_id: new ObjectID(....)}, \n",
    "    {\n",
    "        $set: { completed: true}\n",
    "    }, {\n",
    "        returnOriginal: false\n",
    "})."
   ]
  },
  {
   "cell_type": "code",
   "execution_count": null,
   "metadata": {},
   "outputs": [],
   "source": [
    "// Mongoose ORM"
   ]
  }
 ],
 "metadata": {
  "kernelspec": {
   "display_name": "NodeJS",
   "language": "javascript",
   "name": "nodejs"
  },
  "language_info": {
   "codemirror_mode": "javascript",
   "file_extension": ".js",
   "mimetype": "text/javascript",
   "name": "nodejs",
   "pygments_lexer": "javascript",
   "version": "0.10"
  }
 },
 "nbformat": 4,
 "nbformat_minor": 2
}
